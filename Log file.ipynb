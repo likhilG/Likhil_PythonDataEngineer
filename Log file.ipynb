{
 "cells": [
  {
   "cell_type": "code",
   "execution_count": 3,
   "id": "7e13993a",
   "metadata": {},
   "outputs": [],
   "source": [
    "import logging  #module for making a log file\n",
    "import requests"
   ]
  },
  {
   "cell_type": "code",
   "execution_count": 4,
   "id": "878e8d28",
   "metadata": {},
   "outputs": [
    {
     "name": "stdout",
     "output_type": "stream",
     "text": [
      "XML file is downloaded successfully.\n"
     ]
    }
   ],
   "source": [
    "logging.basicConfig(filename='log.txt', level=logging.DEBUG)\n",
    "\n",
    "# Defining the url\n",
    "url = \"https://registers.esma.europa.eu/solr/esma_registers_firds_files/select\"\n",
    "\n",
    "# Defining the parameters for api requests\n",
    "params = {\n",
    "    \"q\": \"*\",\n",
    "    \"fq\": \"publication_date:[2021-01-17T00:00:00Z TO 2021-01-19T23:59:59Z]\",\n",
    "    \"wt\": \"xml\",\n",
    "    \"indent\": \"true\",\n",
    "    \"start\": \"0\",\n",
    "    \"rows\": \"100\"\n",
    "}\n",
    "# logging \n",
    "logging.info('Starting API request task')\n",
    "\n",
    "# Send the API request and get the response\n",
    "response = requests.get(url, params=params)\n",
    "\n",
    "# Check if the response status code is 200 (OK)\n",
    "if response.status_code == 200:\n",
    "    # If the response status code is 200, open a file in binary mode and write the response content to it\n",
    "    with open(\"file.xml\", \"wb\") as f:\n",
    "        f.write(response.content)\n",
    "        # Print a success message\n",
    "        print(\"XML file is downloaded successfully.\")\n",
    "        # log the successful completion of the task\n",
    "        logging.info('API request task completed successfully')\n",
    "else:\n",
    "    # If the response status code is not 200, print an error message\n",
    "    print(\"Error in downloading XML file download failed.\")\n",
    "    # If the response status code is not 200, log an error message\n",
    "    logging.error(f'Error in API request task: {error}')"
   ]
  },
  {
   "cell_type": "code",
   "execution_count": null,
   "id": "a281b08e",
   "metadata": {},
   "outputs": [],
   "source": []
  }
 ],
 "metadata": {
  "kernelspec": {
   "display_name": "Python 3 (ipykernel)",
   "language": "python",
   "name": "python3"
  },
  "language_info": {
   "codemirror_mode": {
    "name": "ipython",
    "version": 3
   },
   "file_extension": ".py",
   "mimetype": "text/x-python",
   "name": "python",
   "nbconvert_exporter": "python",
   "pygments_lexer": "ipython3",
   "version": "3.9.12"
  }
 },
 "nbformat": 4,
 "nbformat_minor": 5
}
